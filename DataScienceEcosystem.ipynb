{
  "nbformat": 4,
  "nbformat_minor": 0,
  "metadata": {
    "colab": {
      "provenance": []
    },
    "kernelspec": {
      "name": "python3",
      "display_name": "Python 3"
    },
    "language_info": {
      "name": "python"
    }
  },
  "cells": [
    {
      "cell_type": "markdown",
      "source": [
        "# Data Science Tools and Ecosystem"
      ],
      "metadata": {
        "id": "hnYR4CMjo1Dp"
      }
    },
    {
      "cell_type": "markdown",
      "source": [
        "In this notebook, Data Science Tools and Ecosystem are summarized."
      ],
      "metadata": {
        "id": "hKlZ3vcRpOmH"
      }
    },
    {
      "cell_type": "markdown",
      "source": [
        "**Objectives:**\n",
        "+ List popular languages used by data scientists.\n",
        "+ List popular libraries used by data scientists.\n",
        "+ List popular development environments used by data scientists.\n",
        "+ Performing arithmetic operations\n",
        "+ converting minutes to hours"
      ],
      "metadata": {
        "id": "4bUoul1FxVnk"
      }
    },
    {
      "cell_type": "markdown",
      "source": [
        "Some of the popular languages that Data Scientists use are:\n",
        "1. Python\n",
        "2. R\n",
        "3. SQL"
      ],
      "metadata": {
        "id": "H1q2Brq4pOkA"
      }
    },
    {
      "cell_type": "markdown",
      "source": [
        "Some of the commonly used libraries used by Data Scientists include:\n",
        "1. Matplotlib\n",
        "2. Pandas\n",
        "3. NumPy"
      ],
      "metadata": {
        "id": "2Ut8Cpf3qGRz"
      }
    },
    {
      "cell_type": "markdown",
      "source": [
        "|Data Science Tools|\n",
        "|------------------|\n",
        "|Jupyter Notebooks|\n",
        "|Visual Studio Code|\n",
        "|R Studio|"
      ],
      "metadata": {
        "id": "yHztSgCwqGPa"
      }
    },
    {
      "cell_type": "markdown",
      "source": [
        "### Below are a few examples of evaluating arithmetic expressions in Python"
      ],
      "metadata": {
        "id": "iIDn6JA-qGM-"
      }
    },
    {
      "cell_type": "code",
      "execution_count": 3,
      "metadata": {
        "colab": {
          "base_uri": "https://localhost:8080/"
        },
        "id": "pO3UsLeHoiP2",
        "outputId": "f280429d-c20f-456d-d15d-537891844b43"
      },
      "outputs": [
        {
          "output_type": "execute_result",
          "data": {
            "text/plain": [
              "17"
            ]
          },
          "metadata": {},
          "execution_count": 3
        }
      ],
      "source": [
        "# This is a simple arithmetic expression to multiply then add integers\n",
        "(3*4)+5"
      ]
    },
    {
      "cell_type": "code",
      "source": [
        "# this will convert 200 minutes to hours by dividing by 60\n",
        "min = 200\n",
        "hours = 200 / 60\n",
        "print(f\"{hours} hrs\")"
      ],
      "metadata": {
        "colab": {
          "base_uri": "https://localhost:8080/"
        },
        "id": "xNyC1gEpv4Ej",
        "outputId": "cb025f19-b5db-433c-e43f-1c82aa03674a"
      },
      "execution_count": 5,
      "outputs": [
        {
          "output_type": "stream",
          "name": "stdout",
          "text": [
            "3.3333333333333335 hrs\n"
          ]
        }
      ]
    },
    {
      "cell_type": "markdown",
      "source": [
        "## Author\n",
        "vijay kumar"
      ],
      "metadata": {
        "id": "WEkUKHTfxMDS"
      }
    }
  ]
}